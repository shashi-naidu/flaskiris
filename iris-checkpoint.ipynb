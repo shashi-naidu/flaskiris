{
 "cells": [
  {
   "cell_type": "code",
   "execution_count": null,
   "id": "81b6e735-bd86-490a-a9f1-4c588b02de4b",
   "metadata": {},
   "outputs": [],
   "source": [
    "from sklearn.datasets imporyt load_iris\n",
    "from sklearn.ensemble import RandomForestClassifier\n",
    "import joblib\n",
    "iris=load_iris()\n",
    "X,y=iris.data,iris.target"
   ]
  }
 ],
 "metadata": {
  "kernelspec": {
   "display_name": "Python 3 (ipykernel)",
   "language": "python",
   "name": "python3"
  },
  "language_info": {
   "codemirror_mode": {
    "name": "ipython",
    "version": 3
   },
   "file_extension": ".py",
   "mimetype": "text/x-python",
   "name": "python",
   "nbconvert_exporter": "python",
   "pygments_lexer": "ipython3",
   "version": "3.12.4"
  }
 },
 "nbformat": 4,
 "nbformat_minor": 5
}
